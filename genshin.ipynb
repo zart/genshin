{
 "cells": [
  {
   "cell_type": "markdown",
   "metadata": {},
   "source": [
    "Install: **pip install jupyter-client pandas ipympl**\n",
    "\n",
    "Local data (will fallback on network): **git clone https://github.com/theBowja/genshin-db**"
   ]
  },
  {
   "cell_type": "code",
   "execution_count": 85,
   "metadata": {},
   "outputs": [],
   "source": [
    "import os\n",
    "import pandas as pd, numpy as np, ipywidgets as iw\n",
    "from IPython.display import Image\n"
   ]
  },
  {
   "cell_type": "code",
   "execution_count": 86,
   "metadata": {},
   "outputs": [],
   "source": [
    "LOCAL_SRC = 'genshin-db/src/min/{id}.min.json'\n",
    "REMOTE_SRC = 'https://raw.githubusercontent.com/theBowja/genshin-db/main/src/min/{id}.min.json'\n",
    "#REMOTE_SRC = 'https://cdn.jsdelivr.net/npm/genshin-db/src/min/{id}.min.json'\n",
    "#REMOTE_SRC = 'https://unpkg.com/genshin-db/src/min/{id}.min.json'\n",
    "\n",
    "dataurl = LOCAL_SRC if os.path.exists(LOCAL_SRC.format(id='data')) else REMOTE_SRC\n",
    "index, data, curve, image, stats, url = [pd.read_json(dataurl.format(id=id))\n",
    "  for id in ('index', 'data', 'curve', 'image', 'stats', 'url')]\n"
   ]
  },
  {
   "cell_type": "code",
   "execution_count": 104,
   "metadata": {},
   "outputs": [
    {
     "data": {
      "application/vnd.jupyter.widget-view+json": {
       "model_id": "610061aa6312477baaff0e88e5a387f5",
       "version_major": 2,
       "version_minor": 0
      },
      "text/plain": [
       "VBox(children=(Dropdown(description='Language', index=3, options=('ChineseSimplified', 'ChineseTraditional', '…"
      ]
     },
     "metadata": {},
     "output_type": "display_data"
    }
   ],
   "source": [
    "# char selector\n",
    "def on_char_change(change):\n",
    "  newchar = change['new']\n",
    "  url = image.characters[newchar]['icon']\n",
    "  uichartext.value = url\n",
    "  uicharimg.value = Image(url).data\n",
    "  #uicharimg.value = Image(change['new']]['icon'])\n",
    "\n",
    "uichar = iw.Dropdown(description='Character')\n",
    "uichar.observe(on_char_change, ['value'])\n",
    "uicharlv = iw.IntSlider(min=1, max=90, description='Lv')\n",
    "uicharc = iw.IntSlider(min=0, max=6, description='C')\n",
    "\n",
    "uicharname = iw.Label()\n",
    "uichartitle = iw.Label()\n",
    "uicharimg = iw.Image()\n",
    "uichartext = iw.Textarea()\n",
    "\n",
    "# weapon selector\n",
    "def on_weapon_change(change):\n",
    "  pass\n",
    "\n",
    "uiweapon = iw.Dropdown(description='Weapon')\n",
    "uiweapon.observe(on_weapon_change, ['value'])\n",
    "uiweaponlv = iw.IntSlider(min=1, max=90, description='Lv')\n",
    "uiweaponr = iw.IntSlider(min=1, max=5, description='Rank')\n",
    "\n",
    "# language selector\n",
    "def on_lang_change(change):\n",
    "  subdb = index[change['new']]\n",
    "  uichar.options=subdb.characters['names']\n",
    "  uiweapon.options=subdb.weapons['names']\n",
    "\n",
    "uilang = iw.Dropdown(options=index, description='Language')\n",
    "uilang.observe(on_lang_change, ['value'])\n",
    "uilang.value = 'English'\n",
    "\n",
    "ui = iw.VBox(children=[\n",
    "  uilang,\n",
    "  iw.Tab(\n",
    "    _titles={\n",
    "      '0': 'Character',\n",
    "      '1': 'Weapons'\n",
    "    },\n",
    "    children=[\n",
    "      iw.VBox(children=[\n",
    "        iw.Box([\n",
    "          iw.VBox([uicharname, uichartitle, uicharimg]),\n",
    "          iw.VBox([\n",
    "            iw.Box([uichar, uicharlv, uicharc]),\n",
    "            uichartext,\n",
    "          ]),\n",
    "        ])\n",
    "      ]),\n",
    "      iw.VBox(children=[\n",
    "        iw.Box([uiweapon, uiweaponlv, uiweaponr]),\n",
    "      ])\n",
    "    ],\n",
    "  ),\n",
    "])\n",
    "\n",
    "ui"
   ]
  }
 ],
 "metadata": {
  "interpreter": {
   "hash": "56e9eb096798a50220c84901130241d32ab91ae00a8e720b33510ab3aaceb1f6"
  },
  "kernelspec": {
   "display_name": "Python 3.9.7 64-bit",
   "language": "python",
   "name": "python3"
  },
  "language_info": {
   "codemirror_mode": {
    "name": "ipython",
    "version": 3
   },
   "file_extension": ".py",
   "mimetype": "text/x-python",
   "name": "python",
   "nbconvert_exporter": "python",
   "pygments_lexer": "ipython3",
   "version": "3.9.7"
  },
  "orig_nbformat": 4
 },
 "nbformat": 4,
 "nbformat_minor": 2
}
